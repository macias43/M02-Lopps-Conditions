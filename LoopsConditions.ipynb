{
 "cells": [
  {
   "cell_type": "code",
   "execution_count": 1,
   "id": "86ac1701",
   "metadata": {},
   "outputs": [
    {
     "name": "stdout",
     "output_type": "stream",
     "text": [
      "too low\n"
     ]
    }
   ],
   "source": [
    "# Assigning a number between 1 and 10 to the varibale secret\n",
    "secret = 7\n",
    "\n",
    "# Assigning a number between 1 and 10 to the variable guess \n",
    "guess = 5\n",
    "\n",
    "# Checking if the number is \"Too low\", \"Too high\", or \"Just right\"\n",
    "if guess < secret:\n",
    "    print('too low')\n",
    "elif guess > secret:\n",
    "    print('too high')\n",
    "else:\n",
    "    print('just right')\n"
   ]
  },
  {
   "cell_type": "code",
   "execution_count": 2,
   "id": "f85dd64e",
   "metadata": {},
   "outputs": [
    {
     "name": "stdout",
     "output_type": "stream",
     "text": [
      "This matches small but not green: cherry\n"
     ]
    }
   ],
   "source": [
    "# Creating the variables small and green and assigning it as True or False\n",
    "small = True \n",
    "green = False \n",
    "\n",
    "# Checking the attributes of the items \"Cherry\", \"Pea\", \"Watermelon\", and \"Pumpkin\" to the matching variables small and green \n",
    "if small and green:\n",
    "    print(\"This matches both small and green: pea\")\n",
    "elif small and not green:\n",
    "    print(\"This matches small but not green: cherry\")\n",
    "elif not small and green:\n",
    "    print(\"This matches green but not small: watermelon\")\n",
    "else:\n",
    "    print(\"This doesn't match neither small or green: pumpkin\")\n",
    "\n"
   ]
  },
  {
   "cell_type": "code",
   "execution_count": 3,
   "id": "9de48c60",
   "metadata": {},
   "outputs": [
    {
     "name": "stdout",
     "output_type": "stream",
     "text": [
      "3\n",
      "2\n",
      "1\n",
      "0\n"
     ]
    }
   ],
   "source": [
    "# Creating the variable \"list\" and assigning it the list of numbers: 3, 2, 1, 0\n",
    "list = [3, 2, 1, 0]\n",
    "\n",
    "# Getting the value from the variable \"list\" and printing out the values from the list \n",
    "for value in list:\n",
    "    print(value)"
   ]
  },
  {
   "cell_type": "code",
   "execution_count": 4,
   "id": "ac143fa0",
   "metadata": {},
   "outputs": [
    {
     "name": "stdout",
     "output_type": "stream",
     "text": [
      "Too low\n",
      "Too low\n",
      "Too low\n",
      "Too low\n",
      "Too low\n",
      "Too low\n",
      "Found it!\n"
     ]
    }
   ],
   "source": [
    "# Assigning the variables \"guess_me\" to 7 and \"number\" to 1 \n",
    "guess_me = 7 \n",
    "number = 1\n",
    "\n",
    "# Starting the while loop\n",
    "while number <= guess_me:\n",
    "    if number < guess_me:\n",
    "        print(\"Too low\")\n",
    "    elif number == guess_me:\n",
    "        print(\"Found it!\")\n",
    "        break # Breaking to exit the loop when the number is found \n",
    "    else:\n",
    "        print(\"Oops\")\n",
    "        break # Breaking the loop when the number is greater than guess_me\n",
    "    number += 1 # Increment number \n",
    "\n"
   ]
  },
  {
   "cell_type": "code",
   "execution_count": 5,
   "id": "a75eadde",
   "metadata": {},
   "outputs": [
    {
     "name": "stdout",
     "output_type": "stream",
     "text": [
      "Too low\n",
      "Too low\n",
      "Too low\n",
      "Too low\n",
      "Too low\n",
      "Found it!\n"
     ]
    }
   ],
   "source": [
    "# Creating the variable \"guess_me\" and assigning it the value of 5 \n",
    "guess_me = 5 \n",
    "\n",
    "# Using a for loop to iterate the variable \"number\" over range(10) \n",
    "for number in range(10): \n",
    "    if number < guess_me: \n",
    "        print(\"Too low\")\n",
    "    elif number == guess_me:\n",
    "        print(\"Found it!\")\n",
    "        break # Breaking the loop when the number is found \n",
    "    else:\n",
    "        print(\"Oops\")\n",
    "        break # Breaking the loop when the number is greater than guess_me\n",
    "\n"
   ]
  },
  {
   "cell_type": "code",
   "execution_count": null,
   "id": "658fae94",
   "metadata": {},
   "outputs": [],
   "source": []
  }
 ],
 "metadata": {
  "kernelspec": {
   "display_name": "Python 3 (ipykernel)",
   "language": "python",
   "name": "python3"
  },
  "language_info": {
   "codemirror_mode": {
    "name": "ipython",
    "version": 3
   },
   "file_extension": ".py",
   "mimetype": "text/x-python",
   "name": "python",
   "nbconvert_exporter": "python",
   "pygments_lexer": "ipython3",
   "version": "3.11.4"
  }
 },
 "nbformat": 4,
 "nbformat_minor": 5
}
